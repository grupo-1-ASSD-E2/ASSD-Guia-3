{
 "cells": [
  {
   "cell_type": "code",
   "execution_count": 30,
   "metadata": {},
   "outputs": [],
   "source": [
    "from scipy import signal as ss\n",
    "from matplotlib import pyplot as plt\n",
    "import pandas as pd\n",
    "import numpy as np"
   ]
  },
  {
   "cell_type": "code",
   "execution_count": 31,
   "metadata": {},
   "outputs": [],
   "source": [
    "frame = pd.DataFrame.from_dict"
   ]
  },
  {
   "cell_type": "code",
   "execution_count": 32,
   "metadata": {},
   "outputs": [],
   "source": [
    "def sos_table(sos):\n",
    "    a2 = sos[:,:3][:,2]\n",
    "    a1 = sos[:,:3][:,1]\n",
    "    a0 = sos[:,:3][:,0]\n",
    "    b2 = sos[:,3:][:,2]\n",
    "    b1 = sos[:,3:][:,1]\n",
    "    b0 = sos[:,3:][:,0]\n",
    "    data_sos = {'A2': a2, 'A1': a1, 'A0': a0, 'B2': b2, 'B1': b1, 'B0': b0}\n",
    "    df_sos = frame(data_sos)\n",
    "    return df_sos"
   ]
  },
  {
   "cell_type": "code",
   "execution_count": 33,
   "metadata": {},
   "outputs": [],
   "source": [
    "def plot_s_singularities(zeros, poles):\n",
    "    plt.subplot(1,2,1)\n",
    "    x_z = zeros.real\n",
    "    y_z = zeros.imag\n",
    "    x_p = poles.real\n",
    "    y_p = poles.imag\n",
    "    plt.scatter(x_z, y_z, marker='o', color='blue')\n",
    "    plt.scatter(x_p, y_p, marker='x',color='red')\n",
    "    plt.axis('square')\n",
    "    xl, xr = plt.xlim()\n",
    "    yu, yb = plt.ylim()\n",
    "    max_len = abs(xl-xr) if abs(xl-xr)>abs(yu-yb) else abs(yu-yb)\n",
    "    plt.xlim((-0.9*max_len, max_len*0.1))\n",
    "    plt.grid()"
   ]
  },
  {
   "cell_type": "code",
   "execution_count": 34,
   "metadata": {},
   "outputs": [],
   "source": [
    "def plot_z_singularities(zeros, poles):\n",
    "    plt.subplot(1,2,2)\n",
    "    x_z = zeros.real\n",
    "    y_z = zeros.imag\n",
    "    x_p = poles.real\n",
    "    y_p = poles.imag\n",
    "    plt.scatter(x_z, y_z, marker='o', color='blue')\n",
    "    plt.scatter(x_p, y_p, marker='x',color='red')\n",
    "    circle1=plt.Circle((0,0),1, fill = False)\n",
    "    plt.gcf().gca().add_artist(circle1)\n",
    "    plt.axis('square')\n",
    "    plt.xlim((-1.1, 1.1))\n",
    "    plt.ylim((-1.1, 1.1))\n",
    "    plt.grid()"
   ]
  },
  {
   "cell_type": "code",
   "execution_count": 35,
   "metadata": {},
   "outputs": [],
   "source": [
    "def plot_mag(filtz, filts):\n",
    "    wz, hz = ss.freqz_zpk(filtz.zeros, filtz.poles, filtz.gain)\n",
    "    ws, hs = ss.freqs_zpk(filts.zeros, filts.poles, filts.gain, worN=fs*wz)\n",
    "    plt.plot(wz/(2*np.pi), 20*np.log10(np.abs(hs).clip(1e-15)), label=r'$|H_a(j \\omega)|$')\n",
    "    plt.plot(wz/(2*np.pi), 20*np.log10(np.abs(hz).clip(1e-15)), label=r'$|H_d(e^{j \\omega})|$')\n",
    "    plt.legend()\n",
    "    plt.xlabel('Frequency')\n",
    "    plt.ylabel('Magnitude [dB]')\n",
    "    plt.grid()"
   ]
  },
  {
   "cell_type": "code",
   "execution_count": 36,
   "metadata": {},
   "outputs": [
    {
     "data": {
      "text/html": [
       "<div>\n",
       "<style scoped>\n",
       "    .dataframe tbody tr th:only-of-type {\n",
       "        vertical-align: middle;\n",
       "    }\n",
       "\n",
       "    .dataframe tbody tr th {\n",
       "        vertical-align: top;\n",
       "    }\n",
       "\n",
       "    .dataframe thead th {\n",
       "        text-align: right;\n",
       "    }\n",
       "</style>\n",
       "<table border=\"1\" class=\"dataframe\">\n",
       "  <thead>\n",
       "    <tr style=\"text-align: right;\">\n",
       "      <th></th>\n",
       "      <th>fp</th>\n",
       "      <th>fa</th>\n",
       "      <th>Ap</th>\n",
       "      <th>Aa</th>\n",
       "      <th>fs</th>\n",
       "    </tr>\n",
       "  </thead>\n",
       "  <tbody>\n",
       "    <tr>\n",
       "      <th>0</th>\n",
       "      <td>1000</td>\n",
       "      <td>1900</td>\n",
       "      <td>1</td>\n",
       "      <td>30</td>\n",
       "      <td>10000</td>\n",
       "    </tr>\n",
       "  </tbody>\n",
       "</table>\n",
       "</div>"
      ],
      "text/plain": [
       "     fp    fa  Ap  Aa     fs\n",
       "0  1000  1900   1  30  10000"
      ]
     },
     "execution_count": 36,
     "metadata": {},
     "output_type": "execute_result"
    }
   ],
   "source": [
    "fp = 1000\n",
    "fa = 1900\n",
    "fs = 10000\n",
    "data = {'fp': [fp], 'fa': [fa], 'Ap': [1], 'Aa': [30], 'fs':[fs]}\n",
    "df = frame(data)\n",
    "df.head()"
   ]
  },
  {
   "cell_type": "markdown",
   "metadata": {},
   "source": [
    "## Butterworth"
   ]
  },
  {
   "cell_type": "code",
   "execution_count": 37,
   "metadata": {},
   "outputs": [],
   "source": [
    "\"\"\" Busco el orden del filtro Analógico \"\"\"\n",
    "N_b, ws_b = ss.buttord(2*np.pi*fp, 2*np.pi*fa, 1, 30, analog=True)\n",
    "\"\"\" Funcion tranferencia Analógica \"\"\"\n",
    "z_b, p_b, k_b = ss.butter(N_b, ws_b, 'low', True, output='zpk')\n",
    "filt_s_b = ss.lti(z_b, p_b, k_b)"
   ]
  },
  {
   "cell_type": "markdown",
   "metadata": {},
   "source": [
    "De la aproximacion de Butterworth se obtienen N polos en el semiplano izquierdo del plano s, y tambien se tienen N ceros en el infinito, que los tengo que tener en cuenta al aplicar la tranformacion Bilineal"
   ]
  },
  {
   "cell_type": "code",
   "execution_count": 38,
   "metadata": {},
   "outputs": [
    {
     "data": {
      "text/html": [
       "<div>\n",
       "<style scoped>\n",
       "    .dataframe tbody tr th:only-of-type {\n",
       "        vertical-align: middle;\n",
       "    }\n",
       "\n",
       "    .dataframe tbody tr th {\n",
       "        vertical-align: top;\n",
       "    }\n",
       "\n",
       "    .dataframe thead th {\n",
       "        text-align: right;\n",
       "    }\n",
       "</style>\n",
       "<table border=\"1\" class=\"dataframe\">\n",
       "  <thead>\n",
       "    <tr style=\"text-align: right;\">\n",
       "      <th></th>\n",
       "      <th>Polos</th>\n",
       "      <th>Ceros</th>\n",
       "    </tr>\n",
       "  </thead>\n",
       "  <tbody>\n",
       "    <tr>\n",
       "      <th>0</th>\n",
       "      <td>-1539.808941+6746.343767j</td>\n",
       "      <td>inf</td>\n",
       "    </tr>\n",
       "    <tr>\n",
       "      <th>1</th>\n",
       "      <td>-4314.448777+5410.147646j</td>\n",
       "      <td>inf</td>\n",
       "    </tr>\n",
       "    <tr>\n",
       "      <th>2</th>\n",
       "      <td>-6234.559120+3002.405432j</td>\n",
       "      <td>inf</td>\n",
       "    </tr>\n",
       "    <tr>\n",
       "      <th>3</th>\n",
       "      <td>-6919.838568-0.000000j</td>\n",
       "      <td>inf</td>\n",
       "    </tr>\n",
       "    <tr>\n",
       "      <th>4</th>\n",
       "      <td>-6234.559120-3002.405432j</td>\n",
       "      <td>inf</td>\n",
       "    </tr>\n",
       "    <tr>\n",
       "      <th>5</th>\n",
       "      <td>-4314.448777-5410.147646j</td>\n",
       "      <td>inf</td>\n",
       "    </tr>\n",
       "    <tr>\n",
       "      <th>6</th>\n",
       "      <td>-1539.808941-6746.343767j</td>\n",
       "      <td>inf</td>\n",
       "    </tr>\n",
       "  </tbody>\n",
       "</table>\n",
       "</div>"
      ],
      "text/plain": [
       "                      Polos Ceros\n",
       "0 -1539.808941+6746.343767j   inf\n",
       "1 -4314.448777+5410.147646j   inf\n",
       "2 -6234.559120+3002.405432j   inf\n",
       "3    -6919.838568-0.000000j   inf\n",
       "4 -6234.559120-3002.405432j   inf\n",
       "5 -4314.448777-5410.147646j   inf\n",
       "6 -1539.808941-6746.343767j   inf"
      ]
     },
     "execution_count": 38,
     "metadata": {},
     "output_type": "execute_result"
    }
   ],
   "source": [
    "aux_table = frame({'Polos':p_b, 'Ceros':['inf']*len(p_b)})\n",
    "aux_table"
   ]
  },
  {
   "cell_type": "markdown",
   "metadata": {},
   "source": [
    "Al aplicar la tranformacion bilineal se tiene que $$ s = 2\\cdot f_s \\cdot \\frac{z-1}{z+1} $$ \n",
    "Y por lo tanto $$ z = \\frac{2f_s + s}{2f_s - s} $$  \n",
    "Aplicando esta tranformacion a las singularidades obtenidas anteriormente se obtienenen las singularidades para el campo digital. Para las singularidades en el infinito se puede apreciar que corresponden a singularidades en z=-1, por lo tanto de esta transformacion se obtendrán N ceros en z=-1."
   ]
  },
  {
   "cell_type": "code",
   "execution_count": 39,
   "metadata": {},
   "outputs": [
    {
     "data": {
      "text/html": [
       "<div>\n",
       "<style scoped>\n",
       "    .dataframe tbody tr th:only-of-type {\n",
       "        vertical-align: middle;\n",
       "    }\n",
       "\n",
       "    .dataframe tbody tr th {\n",
       "        vertical-align: top;\n",
       "    }\n",
       "\n",
       "    .dataframe thead th {\n",
       "        text-align: right;\n",
       "    }\n",
       "</style>\n",
       "<table border=\"1\" class=\"dataframe\">\n",
       "  <thead>\n",
       "    <tr style=\"text-align: right;\">\n",
       "      <th></th>\n",
       "      <th>Polos</th>\n",
       "      <th>Ceros</th>\n",
       "    </tr>\n",
       "  </thead>\n",
       "  <tbody>\n",
       "    <tr>\n",
       "      <th>0</th>\n",
       "      <td>0.691133+0.529669j</td>\n",
       "      <td>-1</td>\n",
       "    </tr>\n",
       "    <tr>\n",
       "      <th>1</th>\n",
       "      <td>0.567506+0.348782j</td>\n",
       "      <td>-1</td>\n",
       "    </tr>\n",
       "    <tr>\n",
       "      <th>2</th>\n",
       "      <td>0.504995+0.172239j</td>\n",
       "      <td>-1</td>\n",
       "    </tr>\n",
       "    <tr>\n",
       "      <th>3</th>\n",
       "      <td>0.485893+0.000000j</td>\n",
       "      <td>-1</td>\n",
       "    </tr>\n",
       "    <tr>\n",
       "      <th>4</th>\n",
       "      <td>0.504995-0.172239j</td>\n",
       "      <td>-1</td>\n",
       "    </tr>\n",
       "    <tr>\n",
       "      <th>5</th>\n",
       "      <td>0.567506-0.348782j</td>\n",
       "      <td>-1</td>\n",
       "    </tr>\n",
       "    <tr>\n",
       "      <th>6</th>\n",
       "      <td>0.691133-0.529669j</td>\n",
       "      <td>-1</td>\n",
       "    </tr>\n",
       "  </tbody>\n",
       "</table>\n",
       "</div>"
      ],
      "text/plain": [
       "                Polos  Ceros\n",
       "0  0.691133+0.529669j     -1\n",
       "1  0.567506+0.348782j     -1\n",
       "2  0.504995+0.172239j     -1\n",
       "3  0.485893+0.000000j     -1\n",
       "4  0.504995-0.172239j     -1\n",
       "5  0.567506-0.348782j     -1\n",
       "6  0.691133-0.529669j     -1"
      ]
     },
     "execution_count": 39,
     "metadata": {},
     "output_type": "execute_result"
    }
   ],
   "source": [
    "pz_b = (2*fs+p_b)/(2*fs-p_b)\n",
    "zz_b = np.array([-1]*len(pz_b))\n",
    "aux_table = frame({'Polos':pz_b, 'Ceros':zz_b})\n",
    "aux_table"
   ]
  },
  {
   "cell_type": "code",
   "execution_count": 40,
   "metadata": {},
   "outputs": [
    {
     "data": {
      "image/png": "[encoded data removed]",
      "text/plain": [
       "<Figure size 432x288 with 2 Axes>"
      ]
     },
     "metadata": {
      "needs_background": "light"
     },
     "output_type": "display_data"
    }
   ],
   "source": [
    "plot_s_singularities(z_b, p_b)\n",
    "plot_z_singularities(zz_b, pz_b)"
   ]
  },
  {
   "cell_type": "markdown",
   "metadata": {},
   "source": [
    "En el diagrama de singularidades se puede observar como los ceros que se encontraban en el infinito, en el campo digital se mapean en Z=-1, y los polos que se encontraban en el semiplano izquierdo se encuerntran dentro de la circunferencia de radio 1, manteniendo la estabilidad del sistema."
   ]
  },
  {
   "cell_type": "markdown",
   "metadata": {},
   "source": [
    "Al estar todos los ceros en z = -1 para agrupar las singularidades basta tomar el par de polos conjugados, junto con 2 ceros, obteniendose 3 etapas de orden 2, y el polo real corresponde a una etapa de orden 1"
   ]
  },
  {
   "cell_type": "code",
   "execution_count": 41,
   "metadata": {},
   "outputs": [],
   "source": [
    "a2 = np.array([0,1,1,1])\n",
    "a1 = np.array([1,2,2,2])\n",
    "a0 = np.array([1,1,1,1])\n",
    "a = np.array([a2, a1, a0])"
   ]
  },
  {
   "cell_type": "code",
   "execution_count": 42,
   "metadata": {},
   "outputs": [],
   "source": [
    "\"\"\" Ahora se arman los polinomios de cada par de polos \"\"\"\n",
    "\"\"\"              Z^2 + 2 Re[polo] Z + |polo|^2         \"\"\"\n",
    "\"\"\" El polo de primer orden sera 0*Z^2 + Z - polo      \"\"\"\n",
    "b2 = np.array([0,1,1,1])\n",
    "b1 = np.append([1], np.array(-2*pz_b.real[:3]))\n",
    "b0 = np.append(-pz_b.real[3], np.array(np.abs(pz_b[:3]))**2)\n",
    "b = np.array([b2, b1, b0])"
   ]
  },
  {
   "cell_type": "code",
   "execution_count": 43,
   "metadata": {},
   "outputs": [
    {
     "data": {
      "text/html": [
       "<div>\n",
       "<style scoped>\n",
       "    .dataframe tbody tr th:only-of-type {\n",
       "        vertical-align: middle;\n",
       "    }\n",
       "\n",
       "    .dataframe tbody tr th {\n",
       "        vertical-align: top;\n",
       "    }\n",
       "\n",
       "    .dataframe thead th {\n",
       "        text-align: right;\n",
       "    }\n",
       "</style>\n",
       "<table border=\"1\" class=\"dataframe\">\n",
       "  <thead>\n",
       "    <tr style=\"text-align: right;\">\n",
       "      <th></th>\n",
       "      <th>A2</th>\n",
       "      <th>A1</th>\n",
       "      <th>A0</th>\n",
       "      <th>B2</th>\n",
       "      <th>B1</th>\n",
       "      <th>B0</th>\n",
       "    </tr>\n",
       "  </thead>\n",
       "  <tbody>\n",
       "    <tr>\n",
       "      <th>0</th>\n",
       "      <td>0</td>\n",
       "      <td>1</td>\n",
       "      <td>1</td>\n",
       "      <td>0</td>\n",
       "      <td>1.000000</td>\n",
       "      <td>-0.485893</td>\n",
       "    </tr>\n",
       "    <tr>\n",
       "      <th>1</th>\n",
       "      <td>1</td>\n",
       "      <td>2</td>\n",
       "      <td>1</td>\n",
       "      <td>1</td>\n",
       "      <td>-1.382265</td>\n",
       "      <td>0.758213</td>\n",
       "    </tr>\n",
       "    <tr>\n",
       "      <th>2</th>\n",
       "      <td>1</td>\n",
       "      <td>2</td>\n",
       "      <td>1</td>\n",
       "      <td>1</td>\n",
       "      <td>-1.135012</td>\n",
       "      <td>0.443712</td>\n",
       "    </tr>\n",
       "    <tr>\n",
       "      <th>3</th>\n",
       "      <td>1</td>\n",
       "      <td>2</td>\n",
       "      <td>1</td>\n",
       "      <td>1</td>\n",
       "      <td>-1.009989</td>\n",
       "      <td>0.284686</td>\n",
       "    </tr>\n",
       "  </tbody>\n",
       "</table>\n",
       "</div>"
      ],
      "text/plain": [
       "   A2  A1  A0  B2        B1        B0\n",
       "0   0   1   1   0  1.000000 -0.485893\n",
       "1   1   2   1   1 -1.382265  0.758213\n",
       "2   1   2   1   1 -1.135012  0.443712\n",
       "3   1   2   1   1 -1.009989  0.284686"
      ]
     },
     "execution_count": 43,
     "metadata": {},
     "output_type": "execute_result"
    }
   ],
   "source": [
    "data_sos = {'A2': a2, 'A1': a1, 'A0': a0, 'B2': b2, 'B1': b1, 'B0': b0}\n",
    "df_sos = frame(data_sos)\n",
    "df_sos"
   ]
  },
  {
   "cell_type": "code",
   "execution_count": 44,
   "metadata": {},
   "outputs": [],
   "source": [
    "\"\"\" Ahora calgulo g para que la ganancia en Z=1 sea 1   \"\"\"\n",
    "k_a = np.sum(a[:,0])*np.sum(a[:,1])*np.sum(a[:,2])*np.sum(a[:,3])\n",
    "k_b = np.sum(b[:,0])*np.sum(b[:,1])*np.sum(b[:,2])*np.sum(b[:,3])\n",
    "g_b = k_b/k_a"
   ]
  },
  {
   "cell_type": "code",
   "execution_count": 45,
   "metadata": {},
   "outputs": [],
   "source": [
    "filt_z_b = ss.lti(zz_b, pz_b, g_b)"
   ]
  },
  {
   "cell_type": "code",
   "execution_count": 46,
   "metadata": {},
   "outputs": [
    {
     "data": {
      "image/png": "[encoded data removed]",
      "text/plain": [
       "<Figure size 432x288 with 1 Axes>"
      ]
     },
     "metadata": {
      "needs_background": "light"
     },
     "output_type": "display_data"
    }
   ],
   "source": [
    "plot_mag(filt_z_b, filt_s_b)"
   ]
  },
  {
   "cell_type": "markdown",
   "metadata": {},
   "source": [
    "En el grafico de amplitud de puede observar el pre-wrapping, es por ello que la caida en la banda de atenuacion es mayor en el filtro digital "
   ]
  },
  {
   "cell_type": "markdown",
   "metadata": {},
   "source": [
    "## Cauer"
   ]
  },
  {
   "cell_type": "markdown",
   "metadata": {},
   "source": [
    "Sintetizando nuevametne el filtro pero ahora utilizando la aproximacion de Cauer"
   ]
  },
  {
   "cell_type": "code",
   "execution_count": 47,
   "metadata": {},
   "outputs": [],
   "source": [
    "\"\"\" Busco el orden del filtro Analógico \"\"\"\n",
    "N_c, ws_c = ss.ellipord(2*np.pi*fp, 2*np.pi*fa, 1, 30, analog=True)"
   ]
  },
  {
   "cell_type": "code",
   "execution_count": 48,
   "metadata": {},
   "outputs": [],
   "source": [
    "\"\"\" Funcion tranferencia Analógica \"\"\"\n",
    "z_c, p_c, k_c = ss.ellip(N_c, 1, 30, ws_c, 'low', True, output='zpk')\n",
    "filt_s_c = ss.lti(z_c, p_c, k_c)"
   ]
  },
  {
   "cell_type": "code",
   "execution_count": 49,
   "metadata": {},
   "outputs": [
    {
     "data": {
      "text/html": [
       "<div>\n",
       "<style scoped>\n",
       "    .dataframe tbody tr th:only-of-type {\n",
       "        vertical-align: middle;\n",
       "    }\n",
       "\n",
       "    .dataframe tbody tr th {\n",
       "        vertical-align: top;\n",
       "    }\n",
       "\n",
       "    .dataframe thead th {\n",
       "        text-align: right;\n",
       "    }\n",
       "</style>\n",
       "<table border=\"1\" class=\"dataframe\">\n",
       "  <thead>\n",
       "    <tr style=\"text-align: right;\">\n",
       "      <th></th>\n",
       "      <th>Polos</th>\n",
       "      <th>Ceros</th>\n",
       "    </tr>\n",
       "  </thead>\n",
       "  <tbody>\n",
       "    <tr>\n",
       "      <th>0</th>\n",
       "      <td>-3515.887019+0.000000j</td>\n",
       "      <td>inf+0.000000e+00j</td>\n",
       "    </tr>\n",
       "    <tr>\n",
       "      <th>1</th>\n",
       "      <td>-1289.795952-6201.192904j</td>\n",
       "      <td>0.000000e+00+1.227390e+04j</td>\n",
       "    </tr>\n",
       "    <tr>\n",
       "      <th>2</th>\n",
       "      <td>-1289.795952+6201.192904j</td>\n",
       "      <td>0.000000e+00-1.227390e+04j</td>\n",
       "    </tr>\n",
       "  </tbody>\n",
       "</table>\n",
       "</div>"
      ],
      "text/plain": [
       "                      Polos                       Ceros\n",
       "0    -3515.887019+0.000000j           inf+0.000000e+00j\n",
       "1 -1289.795952-6201.192904j  0.000000e+00+1.227390e+04j\n",
       "2 -1289.795952+6201.192904j  0.000000e+00-1.227390e+04j"
      ]
     },
     "execution_count": 49,
     "metadata": {},
     "output_type": "execute_result"
    }
   ],
   "source": [
    "z_c = np.append(np.array(np.inf), z_c)\n",
    "aux_table = frame({'Polos':p_c, 'Ceros':z_c})\n",
    "aux_table"
   ]
  },
  {
   "cell_type": "code",
   "execution_count": 50,
   "metadata": {},
   "outputs": [
    {
     "data": {
      "text/html": [
       "<div>\n",
       "<style scoped>\n",
       "    .dataframe tbody tr th:only-of-type {\n",
       "        vertical-align: middle;\n",
       "    }\n",
       "\n",
       "    .dataframe tbody tr th {\n",
       "        vertical-align: top;\n",
       "    }\n",
       "\n",
       "    .dataframe thead th {\n",
       "        text-align: right;\n",
       "    }\n",
       "</style>\n",
       "<table border=\"1\" class=\"dataframe\">\n",
       "  <thead>\n",
       "    <tr style=\"text-align: right;\">\n",
       "      <th></th>\n",
       "      <th>Polos</th>\n",
       "      <th>Ceros</th>\n",
       "    </tr>\n",
       "  </thead>\n",
       "  <tbody>\n",
       "    <tr>\n",
       "      <th>0</th>\n",
       "      <td>0.700978+0.000000j</td>\n",
       "      <td>-1.000000+0.000000j</td>\n",
       "    </tr>\n",
       "    <tr>\n",
       "      <th>1</th>\n",
       "      <td>0.731898-0.504459j</td>\n",
       "      <td>0.452832+0.891596j</td>\n",
       "    </tr>\n",
       "    <tr>\n",
       "      <th>2</th>\n",
       "      <td>0.731898+0.504459j</td>\n",
       "      <td>0.452832-0.891596j</td>\n",
       "    </tr>\n",
       "  </tbody>\n",
       "</table>\n",
       "</div>"
      ],
      "text/plain": [
       "                Polos               Ceros\n",
       "0  0.700978+0.000000j -1.000000+0.000000j\n",
       "1  0.731898-0.504459j  0.452832+0.891596j\n",
       "2  0.731898+0.504459j  0.452832-0.891596j"
      ]
     },
     "execution_count": 50,
     "metadata": {},
     "output_type": "execute_result"
    }
   ],
   "source": [
    "\"\"\" Aplico la tranformacion bilineal a las Singularidades \"\"\"\n",
    "pz_c = (2*fs+p_c)/(2*fs-p_c)\n",
    "zz_c = np.append([-1], (2*fs+z_c[1:])/(2*fs-z_c[1:]))\n",
    "aux_table = frame({'Polos':pz_c, 'Ceros':zz_c})\n",
    "aux_table"
   ]
  },
  {
   "cell_type": "code",
   "execution_count": 51,
   "metadata": {},
   "outputs": [
    {
     "data": {
      "image/png": "[encoded data removed]",
      "text/plain": [
       "<Figure size 432x288 with 2 Axes>"
      ]
     },
     "metadata": {
      "needs_background": "light"
     },
     "output_type": "display_data"
    }
   ],
   "source": [
    "plot_s_singularities(z_c, p_c)\n",
    "plot_z_singularities(zz_c, pz_c)"
   ]
  },
  {
   "cell_type": "markdown",
   "metadata": {},
   "source": [
    "Para agrupar las singularidades se toma al par de polos conjugados juntos con el par de ceros conjugados ya que son los que se encuentran mas cercanos, y luego el polo real junto con el cero real forman la etapa de primer orden."
   ]
  },
  {
   "cell_type": "code",
   "execution_count": 52,
   "metadata": {},
   "outputs": [],
   "source": [
    "\"\"\" Armo las 2 etapas \"\"\"\n",
    "a2_c = np.array([0,1])\n",
    "a1_c = np.append([1], np.array(-2*zz_c.real[1]))\n",
    "a0_c = np.append(-zz_c.real[0], np.array(np.abs(zz_c[1]))**2)\n",
    "a_c = np.array([a2_c, a1_c, a0_c])"
   ]
  },
  {
   "cell_type": "code",
   "execution_count": 53,
   "metadata": {},
   "outputs": [],
   "source": [
    "b2_c = np.array([0,1])\n",
    "b1_c = np.append([1], np.array(-2*pz_c.real[1]))\n",
    "b0_c = np.append(-pz_c.real[0], np.array(np.abs(pz_c[1]))**2)\n",
    "b_c = np.array([b2_c, b1_c, b0_c])"
   ]
  },
  {
   "cell_type": "code",
   "execution_count": 54,
   "metadata": {},
   "outputs": [
    {
     "data": {
      "text/html": [
       "<div>\n",
       "<style scoped>\n",
       "    .dataframe tbody tr th:only-of-type {\n",
       "        vertical-align: middle;\n",
       "    }\n",
       "\n",
       "    .dataframe tbody tr th {\n",
       "        vertical-align: top;\n",
       "    }\n",
       "\n",
       "    .dataframe thead th {\n",
       "        text-align: right;\n",
       "    }\n",
       "</style>\n",
       "<table border=\"1\" class=\"dataframe\">\n",
       "  <thead>\n",
       "    <tr style=\"text-align: right;\">\n",
       "      <th></th>\n",
       "      <th>A2</th>\n",
       "      <th>A1</th>\n",
       "      <th>A0</th>\n",
       "      <th>B2</th>\n",
       "      <th>B1</th>\n",
       "      <th>B0</th>\n",
       "    </tr>\n",
       "  </thead>\n",
       "  <tbody>\n",
       "    <tr>\n",
       "      <th>0</th>\n",
       "      <td>0</td>\n",
       "      <td>1.000000</td>\n",
       "      <td>1.0</td>\n",
       "      <td>0</td>\n",
       "      <td>1.000000</td>\n",
       "      <td>-0.700978</td>\n",
       "    </tr>\n",
       "    <tr>\n",
       "      <th>1</th>\n",
       "      <td>1</td>\n",
       "      <td>-0.905664</td>\n",
       "      <td>1.0</td>\n",
       "      <td>1</td>\n",
       "      <td>-1.463796</td>\n",
       "      <td>0.790153</td>\n",
       "    </tr>\n",
       "  </tbody>\n",
       "</table>\n",
       "</div>"
      ],
      "text/plain": [
       "   A2        A1   A0  B2        B1        B0\n",
       "0   0  1.000000  1.0   0  1.000000 -0.700978\n",
       "1   1 -0.905664  1.0   1 -1.463796  0.790153"
      ]
     },
     "execution_count": 54,
     "metadata": {},
     "output_type": "execute_result"
    }
   ],
   "source": [
    "data_sos_c = {'A2': a2_c, 'A1': a1_c, 'A0': a0_c, 'B2': b2_c, 'B1': b1_c, 'B0': b0_c}\n",
    "df_sos_c = frame(data_sos_c)\n",
    "df_sos_c"
   ]
  },
  {
   "cell_type": "code",
   "execution_count": 55,
   "metadata": {},
   "outputs": [],
   "source": [
    "\"\"\" Ahora calgulo g para que la ganancia en Z=1 sea 1   \"\"\"\n",
    "k_a_c = np.sum(a_c[:,0])*np.sum(a_c[:,1])\n",
    "k_b_c = np.sum(b_c[:,0])*np.sum(b_c[:,1])\n",
    "g_c = k_b_c/k_a_c"
   ]
  },
  {
   "cell_type": "code",
   "execution_count": 56,
   "metadata": {},
   "outputs": [],
   "source": [
    "filt_z_c = ss.lti(zz_c, pz_c, g_c)"
   ]
  },
  {
   "cell_type": "code",
   "execution_count": 57,
   "metadata": {},
   "outputs": [
    {
     "data": {
      "image/png": "[encoded data removed]",
      "text/plain": [
       "<Figure size 432x288 with 1 Axes>"
      ]
     },
     "metadata": {
      "needs_background": "light"
     },
     "output_type": "display_data"
    }
   ],
   "source": [
    "plot_mag(filt_z_c, filt_s_c)"
   ]
  },
  {
   "cell_type": "markdown",
   "metadata": {},
   "source": [
    "De esta forma se obtiene el filtro con las mismas especificaciones de la plantilla pero utilizando la aproximacion de Cauer. Se puede observar el efecto del pre-wrapping en el grafico de amplitud, por lo cual se genera la caida de la amplitud en la frecuencia $\\frac{f_s}{2}$. Tambien se puede observar que la frecuencia del cero de transmision se vio modificada."
   ]
  }
 ],
 "metadata": {
  "kernelspec": {
   "display_name": "Python 3",
   "language": "python",
   "name": "python3"
  },
  "language_info": {
   "codemirror_mode": {
    "name": "ipython",
    "version": 3
   },
   "file_extension": ".py",
   "mimetype": "text/x-python",
   "name": "python",
   "nbconvert_exporter": "python",
   "pygments_lexer": "ipython3",
   "version": "3.8.2"
  }
 },
 "nbformat": 4,
 "nbformat_minor": 4
}
