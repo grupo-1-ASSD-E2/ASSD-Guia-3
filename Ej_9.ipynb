{
 "cells": [
  {
   "cell_type": "code",
   "execution_count": 245,
   "metadata": {},
   "outputs": [],
   "source": [
    "from scipy import signal as ss\n",
    "from matplotlib import pyplot as plt\n",
    "import pandas as pd\n",
    "import numpy as np"
   ]
  },
  {
   "cell_type": "code",
   "execution_count": 246,
   "metadata": {},
   "outputs": [
    {
     "data": {
      "text/html": [
       "<div>\n",
       "<style scoped>\n",
       "    .dataframe tbody tr th:only-of-type {\n",
       "        vertical-align: middle;\n",
       "    }\n",
       "\n",
       "    .dataframe tbody tr th {\n",
       "        vertical-align: top;\n",
       "    }\n",
       "\n",
       "    .dataframe thead th {\n",
       "        text-align: right;\n",
       "    }\n",
       "</style>\n",
       "<table border=\"1\" class=\"dataframe\">\n",
       "  <thead>\n",
       "    <tr style=\"text-align: right;\">\n",
       "      <th></th>\n",
       "      <th>fp</th>\n",
       "      <th>fa</th>\n",
       "      <th>Ap</th>\n",
       "      <th>Aa</th>\n",
       "      <th>fs</th>\n",
       "    </tr>\n",
       "  </thead>\n",
       "  <tbody>\n",
       "    <tr>\n",
       "      <th>0</th>\n",
       "      <td>1000</td>\n",
       "      <td>1900</td>\n",
       "      <td>1</td>\n",
       "      <td>30</td>\n",
       "      <td>10000</td>\n",
       "    </tr>\n",
       "  </tbody>\n",
       "</table>\n",
       "</div>"
      ],
      "text/plain": [
       "     fp    fa  Ap  Aa     fs\n",
       "0  1000  1900   1  30  10000"
      ]
     },
     "execution_count": 246,
     "metadata": {},
     "output_type": "execute_result"
    }
   ],
   "source": [
    "data = {'fp': [1000], 'fa': [1900], 'Ap': [1], 'Aa': [30], 'fs':[10000]}\n",
    "df = pd.DataFrame.from_dict(data)\n",
    "df.head()"
   ]
  },
  {
   "cell_type": "code",
   "execution_count": 247,
   "metadata": {},
   "outputs": [],
   "source": [
    "def sos_table(sos):\n",
    "    a2 = sos[:,:3][:,2]\n",
    "    a1 = sos[:,:3][:,1]\n",
    "    a0 = sos[:,:3][:,0]\n",
    "    b2 = sos[:,3:][:,2]\n",
    "    b1 = sos[:,3:][:,1]\n",
    "    b0 = sos[:,3:][:,0]\n",
    "    data_sos = {'A2': a2, 'A1': a1, 'A0': a0, 'B2': b2, 'B1': b1, 'B0': b0}\n",
    "    df_sos = pd.DataFrame.from_dict(data_sos)\n",
    "    return df_sos"
   ]
  },
  {
   "cell_type": "code",
   "execution_count": 248,
   "metadata": {},
   "outputs": [],
   "source": [
    "def plot_s_singularities(zeros, poles):\n",
    "    plt.subplot(1,2,1)\n",
    "    x_z = zeros.real\n",
    "    y_z = zeros.imag\n",
    "    x_p = poles.real\n",
    "    y_p = poles.imag\n",
    "    plt.scatter(x_z, y_z, marker='o', color='blue')\n",
    "    plt.scatter(x_p, y_p, marker='x',color='red')\n",
    "    plt.axis('square')\n",
    "    xl, xr = plt.xlim()\n",
    "    yu, yb = plt.ylim()\n",
    "    max_len = abs(xl-xr) if abs(xl-xr)>abs(yu-yb) else abs(yu-yb)\n",
    "    plt.xlim((-0.9*max_len, max_len*0.1))\n",
    "    plt.grid()"
   ]
  },
  {
   "cell_type": "code",
   "execution_count": 249,
   "metadata": {},
   "outputs": [],
   "source": [
    "def plot_mag(filtz, filts):\n",
    "    wz, hz = ss.freqz_zpk(filtz.zeros, filtz.poles, filtz.gain)\n",
    "    ws, hs = ss.freqs_zpk(filts.zeros, filts.poles, filts.gain, worN=10000*wz)\n",
    "    plt.plot(wz/(2*np.pi), 20*np.log10(np.abs(hz).clip(1e-15)), label=r'$|H_a(j \\omega)|$')\n",
    "    plt.plot(wz/(2*np.pi), 20*np.log10(np.abs(hs).clip(1e-15)), label=r'$|H_d(e^{j \\omega})|$')\n",
    "    plt.legend()\n",
    "    plt.xlabel('Frequency')\n",
    "    plt.ylabel('Magnitude [dB]')\n",
    "    plt.grid()"
   ]
  },
  {
   "cell_type": "markdown",
   "metadata": {},
   "source": [
    "Utilizando la aproximacion de Butterworth la funcion que se obtiene para el campo analógico es de la formma\n",
    "$$ H(s) = \\frac{1}{\\sum_{i=0}^{N}b_i \\cdot s^i} $$\n",
    "Utilizadno la tranformacion bilineal $s = \\frac{z-1}{z+1} $ se obtiene \n",
    "$$ H(z) = \\frac{1}{\\sum_{i=0}^{N}b_i \\cdot \\left(\\frac{z-1}{z+1}\\right) ^i} $$\n",
    "Multiplicando numerador y denominador por $(z+1)^N$ se obtiene\n",
    "$$ H(z) = \\frac{(z+1)^N}{\\sum_{i=0}^{N}b_i \\cdot (z-1)^i \\cdot (z+1)^{N-i} } $$\n",
    "De lo cual se puede observar que se obtiene N ceros en Z=-1, singularidades que en el dominio analógico se ubican en le infinito."
   ]
  },
  {
   "cell_type": "code",
   "execution_count": 250,
   "metadata": {},
   "outputs": [],
   "source": [
    "\"\"\" Busco el orden del filtro Analógico \"\"\"\n",
    "N, ws = ss.buttord(2*np.pi*1000, 2*np.pi*1900, 1, 30, analog=True)"
   ]
  },
  {
   "cell_type": "code",
   "execution_count": 251,
   "metadata": {},
   "outputs": [],
   "source": [
    "\"\"\" Funcion tranferencia Analógica \"\"\"\n",
    "z, p, k = ss.butter(N, ws, 'low', True, output='zpk')\n",
    "filt_s = ss.lti(z, p, k)\n",
    "\"\"\" Paso al campo digital con la transformacion Bilineal \"\"\"\n",
    "zz, pz, kz= ss.bilinear_zpk(z, p, k, 10000)\n",
    "filt_z = ss.lti(zz, pz, kz)"
   ]
  },
  {
   "cell_type": "code",
   "execution_count": 252,
   "metadata": {},
   "outputs": [],
   "source": [
    "sos = ss.zpk2sos(zz, pz, kz, pairing='keep_odd')"
   ]
  },
  {
   "cell_type": "code",
   "execution_count": 253,
   "metadata": {},
   "outputs": [
    {
     "data": {
      "text/html": [
       "<div>\n",
       "<style scoped>\n",
       "    .dataframe tbody tr th:only-of-type {\n",
       "        vertical-align: middle;\n",
       "    }\n",
       "\n",
       "    .dataframe tbody tr th {\n",
       "        vertical-align: top;\n",
       "    }\n",
       "\n",
       "    .dataframe thead th {\n",
       "        text-align: right;\n",
       "    }\n",
       "</style>\n",
       "<table border=\"1\" class=\"dataframe\">\n",
       "  <thead>\n",
       "    <tr style=\"text-align: right;\">\n",
       "      <th></th>\n",
       "      <th>A2</th>\n",
       "      <th>A1</th>\n",
       "      <th>A0</th>\n",
       "      <th>B2</th>\n",
       "      <th>B1</th>\n",
       "      <th>B0</th>\n",
       "    </tr>\n",
       "  </thead>\n",
       "  <tbody>\n",
       "    <tr>\n",
       "      <th>0</th>\n",
       "      <td>0.0</td>\n",
       "      <td>0.000128</td>\n",
       "      <td>0.000128</td>\n",
       "      <td>0.000000</td>\n",
       "      <td>-0.485893</td>\n",
       "      <td>1.0</td>\n",
       "    </tr>\n",
       "    <tr>\n",
       "      <th>1</th>\n",
       "      <td>1.0</td>\n",
       "      <td>2.000000</td>\n",
       "      <td>1.000000</td>\n",
       "      <td>0.284686</td>\n",
       "      <td>-1.009989</td>\n",
       "      <td>1.0</td>\n",
       "    </tr>\n",
       "    <tr>\n",
       "      <th>2</th>\n",
       "      <td>1.0</td>\n",
       "      <td>2.000000</td>\n",
       "      <td>1.000000</td>\n",
       "      <td>0.443712</td>\n",
       "      <td>-1.135012</td>\n",
       "      <td>1.0</td>\n",
       "    </tr>\n",
       "    <tr>\n",
       "      <th>3</th>\n",
       "      <td>1.0</td>\n",
       "      <td>2.000000</td>\n",
       "      <td>1.000000</td>\n",
       "      <td>0.758213</td>\n",
       "      <td>-1.382265</td>\n",
       "      <td>1.0</td>\n",
       "    </tr>\n",
       "  </tbody>\n",
       "</table>\n",
       "</div>"
      ],
      "text/plain": [
       "    A2        A1        A0        B2        B1   B0\n",
       "0  0.0  0.000128  0.000128  0.000000 -0.485893  1.0\n",
       "1  1.0  2.000000  1.000000  0.284686 -1.009989  1.0\n",
       "2  1.0  2.000000  1.000000  0.443712 -1.135012  1.0\n",
       "3  1.0  2.000000  1.000000  0.758213 -1.382265  1.0"
      ]
     },
     "execution_count": 253,
     "metadata": {},
     "output_type": "execute_result"
    }
   ],
   "source": [
    "sos_table(sos)"
   ]
  },
  {
   "cell_type": "code",
   "execution_count": 254,
   "metadata": {},
   "outputs": [
    {
     "data": {
      "image/png": "[encoded data removed]",
      "text/plain": [
       "<Figure size 432x288 with 1 Axes>"
      ]
     },
     "metadata": {
      "needs_background": "light"
     },
     "output_type": "display_data"
    }
   ],
   "source": [
    "plot_mag(filt_z, filt_s)"
   ]
  },
  {
   "cell_type": "code",
   "execution_count": 255,
   "metadata": {},
   "outputs": [
    {
     "data": {
      "image/png": "[encoded data removed]",
      "text/plain": [
       "<Figure size 432x288 with 2 Axes>"
      ]
     },
     "metadata": {
      "needs_background": "light"
     },
     "output_type": "display_data"
    }
   ],
   "source": [
    "plot_s_singularities(z, p)\n",
    "plot_singularities(zz, pz)"
   ]
  },
  {
   "cell_type": "markdown",
   "metadata": {},
   "source": [
    "Sintetizando nuevametne el filtro pero ahora utilizando la aproximacion de Cauer"
   ]
  },
  {
   "cell_type": "code",
   "execution_count": 256,
   "metadata": {},
   "outputs": [],
   "source": [
    "\"\"\" Busco el orden del filtro Analógico \"\"\"\n",
    "N_c, ws_c = ss.ellipord(2*np.pi*1000, 2*np.pi*1900, 1, 30, analog=True)"
   ]
  },
  {
   "cell_type": "code",
   "execution_count": 257,
   "metadata": {},
   "outputs": [],
   "source": [
    "\"\"\" Funcion tranferencia Analógica \"\"\"\n",
    "z_c, p_c, k_c = ss.ellip(N_c, 1, 30, ws_c, 'low', True, output='zpk')\n",
    "filt_s_c = ss.lti(z_c, p_c, k_c)\n",
    "\"\"\" Paso al campo digital con la transformacion Bilineal \"\"\"\n",
    "zz_c, pz_c, kz_c= ss.bilinear_zpk(z_c, p_c, k_c, 10000)\n",
    "filt_z_c = ss.lti(zz_c, pz_c, kz_c)"
   ]
  },
  {
   "cell_type": "code",
   "execution_count": 258,
   "metadata": {},
   "outputs": [],
   "source": [
    "\"\"\" Separo las singularidades del filtro digital \"\"\"\n",
    "sos_c = ss.zpk2sos(zz_c, pz_c, kz_c, pairing='keep_odd')"
   ]
  },
  {
   "cell_type": "code",
   "execution_count": 259,
   "metadata": {},
   "outputs": [
    {
     "data": {
      "text/html": [
       "<div>\n",
       "<style scoped>\n",
       "    .dataframe tbody tr th:only-of-type {\n",
       "        vertical-align: middle;\n",
       "    }\n",
       "\n",
       "    .dataframe tbody tr th {\n",
       "        vertical-align: top;\n",
       "    }\n",
       "\n",
       "    .dataframe thead th {\n",
       "        text-align: right;\n",
       "    }\n",
       "</style>\n",
       "<table border=\"1\" class=\"dataframe\">\n",
       "  <thead>\n",
       "    <tr style=\"text-align: right;\">\n",
       "      <th></th>\n",
       "      <th>A2</th>\n",
       "      <th>A1</th>\n",
       "      <th>A0</th>\n",
       "      <th>B2</th>\n",
       "      <th>B1</th>\n",
       "      <th>B0</th>\n",
       "    </tr>\n",
       "  </thead>\n",
       "  <tbody>\n",
       "    <tr>\n",
       "      <th>0</th>\n",
       "      <td>0.0</td>\n",
       "      <td>0.044588</td>\n",
       "      <td>0.044588</td>\n",
       "      <td>0.000000</td>\n",
       "      <td>-0.700978</td>\n",
       "      <td>1.0</td>\n",
       "    </tr>\n",
       "    <tr>\n",
       "      <th>1</th>\n",
       "      <td>1.0</td>\n",
       "      <td>-0.905664</td>\n",
       "      <td>1.000000</td>\n",
       "      <td>0.790153</td>\n",
       "      <td>-1.463796</td>\n",
       "      <td>1.0</td>\n",
       "    </tr>\n",
       "  </tbody>\n",
       "</table>\n",
       "</div>"
      ],
      "text/plain": [
       "    A2        A1        A0        B2        B1   B0\n",
       "0  0.0  0.044588  0.044588  0.000000 -0.700978  1.0\n",
       "1  1.0 -0.905664  1.000000  0.790153 -1.463796  1.0"
      ]
     },
     "execution_count": 259,
     "metadata": {},
     "output_type": "execute_result"
    }
   ],
   "source": [
    "sos_table(sos_c)"
   ]
  },
  {
   "cell_type": "code",
   "execution_count": 260,
   "metadata": {},
   "outputs": [
    {
     "data": {
      "image/png": "[encoded data removed]",
      "text/plain": [
       "<Figure size 432x288 with 1 Axes>"
      ]
     },
     "metadata": {
      "needs_background": "light"
     },
     "output_type": "display_data"
    }
   ],
   "source": [
    "plot_mag(filt_z_c, filt_s_c)"
   ]
  },
  {
   "cell_type": "code",
   "execution_count": 261,
   "metadata": {},
   "outputs": [
    {
     "data": {
      "image/png": "[encoded data removed]",
      "text/plain": [
       "<Figure size 432x288 with 2 Axes>"
      ]
     },
     "metadata": {
      "needs_background": "light"
     },
     "output_type": "display_data"
    }
   ],
   "source": [
    "plot_s_singularities(z_c, p_c)\n",
    "plot_singularities(zz_c, pz_c)"
   ]
  },
  {
   "cell_type": "markdown",
   "metadata": {},
   "source": [
    "Del diagrama de las singularidades se puede apreciar como los ceros del eje jw son mapeados a la circunferecnia de radio 1, y los ceros en el infinito son mapeados en Z=-1, al igual que se pudo apreciar en la aproximacion de Butterworth. Luego los polos del semiplano izquierdo se puede apreciar que son mapeados dentro de la circunferecnia de radio 1."
   ]
  }
 ],
 "metadata": {
  "kernelspec": {
   "display_name": "Python 3",
   "language": "python",
   "name": "python3"
  },
  "language_info": {
   "codemirror_mode": {
    "name": "ipython",
    "version": 3
   },
   "file_extension": ".py",
   "mimetype": "text/x-python",
   "name": "python",
   "nbconvert_exporter": "python",
   "pygments_lexer": "ipython3",
   "version": "3.8.2"
  }
 },
 "nbformat": 4,
 "nbformat_minor": 4
}
